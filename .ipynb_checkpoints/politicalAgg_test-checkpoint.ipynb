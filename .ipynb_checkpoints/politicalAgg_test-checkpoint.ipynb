{
 "cells": [
  {
   "cell_type": "code",
   "execution_count": null,
   "metadata": {},
   "outputs": [],
   "source": [
    "#! python3\n",
    "# threadedDownloadXkcd.py - Downloads XKCD comics using multiple threads.\n",
    "\n",
    "import requests, os, bs4, threading\n",
    "os.makedirs('cnn', exist_ok=True)    # store comics in ./xkcd\n",
    "\n",
    "def downloadXkcd(startComic, endComic):\n",
    "    for urlNumber in range(startComic, endComic):\n",
    "        # Download the page.\n",
    "        print('Downloading page https://cnn.com/%s...')\n",
    "        res = requests.get('https://cnn.com/')\n",
    "        res.raise_for_status()\n",
    "'''\n",
    "        soup = bs4.BeautifulSoup(res.text, 'html.parser')\n",
    "\n",
    "        # Find the URL of the comic image.\n",
    "        comicElem = soup.select('#comic img')\n",
    "        if comicElem == []:\n",
    "            print('Could not find comic image.')\n",
    "        else:\n",
    "            comicUrl = comicElem[0].get('src')\n",
    "            # Download the image.\n",
    "            print('Downloading image %s...' % (comicUrl))\n",
    "            res = requests.get('https:' + comicUrl)\n",
    "            res.raise_for_status()\n",
    "\n",
    "            # Save the image to ./xkcd.\n",
    "            imageFile = open(os.path.join('xkcd', os.path.basename(comicUrl)), 'wb')\n",
    "            for chunk in res.iter_content(100000):\n",
    "                imageFile.write(chunk)\n",
    "            imageFile.close()\n",
    "\n",
    "# Create and start the Thread objects.\n",
    "downloadThreads = []             # a list of all the Thread objects\n",
    "for i in range(0, 140, 10):    # loops 14 times, creates 14 threads\n",
    "    start = i\n",
    "    end = i + 9\n",
    "    if start == 0:\n",
    "        start = 1 # There is no comic 0, so set it to 1.\n",
    "    downloadThread = threading.Thread(target=downloadXkcd, args=(start, end))\n",
    "    downloadThreads.append(downloadThread)\n",
    "    downloadThread.start()\n",
    "    \n",
    "# Wait for all threads to end.\n",
    "for downloadThread in downloadThreads:\n",
    "    downloadThread.join()\n",
    "    \n",
    "'''\n",
    "print('Done.')"
   ]
  }
 ],
 "metadata": {
  "kernelspec": {
   "display_name": "Python 3",
   "language": "python",
   "name": "python3"
  },
  "language_info": {
   "codemirror_mode": {
    "name": "ipython",
    "version": 3
   },
   "file_extension": ".py",
   "mimetype": "text/x-python",
   "name": "python",
   "nbconvert_exporter": "python",
   "pygments_lexer": "ipython3",
   "version": "3.6.2"
  }
 },
 "nbformat": 4,
 "nbformat_minor": 4
}
