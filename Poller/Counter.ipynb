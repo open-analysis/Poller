{
 "cells": [
  {
   "cell_type": "code",
   "execution_count": null,
   "metadata": {},
   "outputs": [],
   "source": [
    "import os\n",
    "\n",
    "# add the title and url to the main file\n",
    "def addOutputFile(folderCount, folderNames):    \n",
    "    outputFile = open(\"folders.txt\", \"w\")\n",
    "    \n",
    "    toWrite = str(folderCount) + '\\n'\n",
    "    outputFile.writelines(toWrite)\n",
    "    \n",
    "    for name in folderNames:\n",
    "        toWrite = name + '\\n'\n",
    "        #print(toWrite)\n",
    "        outputFile.writelines(toWrite)\n",
    "    \n",
    "    outputFile.close()\n",
    "\n",
    "    \n",
    "    \n",
    "    \n",
    "print(\"\\t\\tStarting...\")\n",
    "\n",
    "print(\"\\tFinding folders...\")\n",
    "\n",
    "path = \"D:/Dev/Python/poli/Poller/ppl\"\n",
    "\n",
    "folderCount = 0\n",
    "folderNames = []\n",
    "\n",
    "for _, dirnames, _ in os.walk(path):\n",
    "    folderCount += len(dirnames)\n",
    "    if dirnames:\n",
    "        folderNames = dirnames\n",
    "    #print(dirnames)\n",
    "#print(folderNames)\n",
    "#print(\"{:,} files, {:,} folders\".format(files, folders))\n",
    "    \n",
    "addOutputFile(folderCount, folderNames)\n",
    "    \n",
    "print(\"\\n\\n\\t\\tDone!\")"
   ]
  }
 ],
 "metadata": {
  "kernelspec": {
   "display_name": "Python 3",
   "language": "python",
   "name": "python3"
  },
  "language_info": {
   "codemirror_mode": {
    "name": "ipython",
    "version": 3
   },
   "file_extension": ".py",
   "mimetype": "text/x-python",
   "name": "python",
   "nbconvert_exporter": "python",
   "pygments_lexer": "ipython3",
   "version": "3.9.1"
  }
 },
 "nbformat": 4,
 "nbformat_minor": 4
}
