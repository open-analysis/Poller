{
 "cells": [
  {
   "cell_type": "code",
   "execution_count": 5,
   "metadata": {},
   "outputs": [
    {
     "name": "stdout",
     "output_type": "stream",
     "text": [
      "Downloading page https://cnn.com/...\n",
      "Downloading page https://cnn.com/2020/06/08/politics/donald-trump-joe-biden-police-funding/index.html...\n",
      "Done.\n"
     ]
    }
   ],
   "source": [
    "#! python3\n",
    "# threadeddownloadPage.py - Downloads XKCD comics using multiple threads.\n",
    "\n",
    "import requests, os, bs4, threading\n",
    "\n",
    "site = 'cnn'\n",
    "os.makedirs(site, exist_ok=True)    # store comics in ./xkcd\n",
    "\n",
    "\n",
    "def downloadPage():\n",
    "    url = 'https://cnn.com/2020/06/08/politics/donald-trump-joe-biden-police-funding/index.html'\n",
    "    # Download the page.\n",
    "    print('Downloading page https://cnn.com/...')\n",
    "    res = requests.get(url)\n",
    "    res.raise_for_status()\n",
    "\n",
    "    soup = bs4.BeautifulSoup(res.text, 'html.parser')\n",
    "\n",
    "    # Find the URL of the comic image.\n",
    "    pageElem = soup.select('.zn-body__paragraph')\n",
    "    #print(pageElem[0].text)\n",
    "    if pageElem == []:\n",
    "        print('Could not find element.')\n",
    "    else:\n",
    "        # Download the page.\n",
    "        print('Downloading page %s...' % (url))\n",
    "        pageFile = open(os.path.join('cnn', site +  '_' + 'trump_police.txt'), 'w')\n",
    "        for elem in pageElem:\n",
    "            pageFile.write(elem.text)\n",
    "        \n",
    "        pageFile.close()\n",
    "'''\n",
    "# Create and start the Thread objects.\n",
    "downloadThreads = []             # a list of all the Thread objects\n",
    "for i in range(0, 140, 10):    # loops 14 times, creates 14 threads\n",
    "    start = i\n",
    "    end = i + 9\n",
    "    if start == 0:\n",
    "        start = 1 # There is no comic 0, so set it to 1.\n",
    "    downloadThread = threading.Thread(target=downloadPage, args=(start, end))\n",
    "    downloadThreads.append(downloadThread)\n",
    "    downloadThread.start()\n",
    "    \n",
    "# Wait for all threads to end.\n",
    "for downloadThread in downloadThreads:\n",
    "    downloadThread.join()\n",
    "'''\n",
    "downloadPage()\n",
    "\n",
    "print('Done.')"
   ]
  }
 ],
 "metadata": {
  "kernelspec": {
   "display_name": "Python 3",
   "language": "python",
   "name": "python3"
  },
  "language_info": {
   "codemirror_mode": {
    "name": "ipython",
    "version": 3
   },
   "file_extension": ".py",
   "mimetype": "text/x-python",
   "name": "python",
   "nbconvert_exporter": "python",
   "pygments_lexer": "ipython3",
   "version": "3.6.2"
  }
 },
 "nbformat": 4,
 "nbformat_minor": 4
}
