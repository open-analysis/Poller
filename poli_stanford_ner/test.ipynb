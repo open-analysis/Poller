{
 "cells": [
  {
   "cell_type": "code",
   "execution_count": 1,
   "metadata": {},
   "outputs": [
    {
     "name": "stdout",
     "output_type": "stream",
     "text": [
      "('Billiy', 'PERSON')\n",
      "('Bubu', 'PERSON')\n"
     ]
    }
   ],
   "source": [
    "import nltk\n",
    "from nltk.tag.stanford import StanfordNERTagger as NERTagger\n",
    "\n",
    "st = NERTagger('stanford_ner/english.all.3class.distsim.crf.ser.gz', 'stanford_ner/stanford-ner-4.2.0.jar')\n",
    "\n",
    "#print(st.tag('You can call me Billiy Bubu and I live in Amsterdam.'.split()))\n",
    "\n",
    "text = \"\"\"You can call me Billiy Bubu and I live in Amsterdam.\"\"\"\n",
    "\n",
    "for sent in nltk.sent_tokenize(text):\n",
    "    tokens = nltk.tokenize.word_tokenize(sent)\n",
    "    tags = st.tag(tokens)\n",
    "    for tag in tags:\n",
    "        if tag[1]=='PERSON': \n",
    "            print(tag)"
   ]
  }
 ],
 "metadata": {
  "kernelspec": {
   "display_name": "Python 3",
   "language": "python",
   "name": "python3"
  },
  "language_info": {
   "codemirror_mode": {
    "name": "ipython",
    "version": 3
   },
   "file_extension": ".py",
   "mimetype": "text/x-python",
   "name": "python",
   "nbconvert_exporter": "python",
   "pygments_lexer": "ipython3",
   "version": "3.9.1"
  }
 },
 "nbformat": 4,
 "nbformat_minor": 4
}
