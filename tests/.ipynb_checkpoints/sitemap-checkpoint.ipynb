{
 "cells": [
  {
   "cell_type": "code",
   "execution_count": 7,
   "metadata": {},
   "outputs": [
    {
     "ename": "NameError",
     "evalue": "name 'urllib2' is not defined",
     "output_type": "error",
     "traceback": [
      "\u001b[1;31m---------------------------------------------------------------------------\u001b[0m",
      "\u001b[1;31mNameError\u001b[0m                                 Traceback (most recent call last)",
      "\u001b[1;32m<ipython-input-7-625e97f46a03>\u001b[0m in \u001b[0;36m<module>\u001b[1;34m()\u001b[0m\n\u001b[0;32m     12\u001b[0m \u001b[0mjson\u001b[0m\u001b[1;33m.\u001b[0m\u001b[0mloads\u001b[0m\u001b[1;33m(\u001b[0m\u001b[0mxml_json\u001b[0m\u001b[1;33m)\u001b[0m\u001b[1;33m\u001b[0m\u001b[0m\n\u001b[0;32m     13\u001b[0m \u001b[0mpost_url\u001b[0m \u001b[1;33m=\u001b[0m \u001b[1;34m'http://rocdummy.blogspot.com/2016/03/test-post-4.html'\u001b[0m\u001b[1;33m\u001b[0m\u001b[0m\n\u001b[1;32m---> 14\u001b[1;33m \u001b[1;32mfor\u001b[0m \u001b[0mline\u001b[0m \u001b[1;32min\u001b[0m \u001b[0murllib2\u001b[0m\u001b[1;33m.\u001b[0m\u001b[0murlopen\u001b[0m\u001b[1;33m(\u001b[0m\u001b[0mpost_url\u001b[0m\u001b[1;33m)\u001b[0m\u001b[1;33m:\u001b[0m\u001b[1;33m\u001b[0m\u001b[0m\n\u001b[0m\u001b[0;32m     15\u001b[0m     \u001b[1;32mif\u001b[0m \u001b[1;34m'<title>'\u001b[0m \u001b[1;32min\u001b[0m \u001b[0mline\u001b[0m\u001b[1;33m:\u001b[0m\u001b[1;33m\u001b[0m\u001b[0m\n\u001b[0;32m     16\u001b[0m         \u001b[0mline\u001b[0m \u001b[1;33m=\u001b[0m \u001b[0mline\u001b[0m\u001b[1;33m.\u001b[0m\u001b[0mstrip\u001b[0m\u001b[1;33m(\u001b[0m\u001b[1;33m)\u001b[0m\u001b[1;33m\u001b[0m\u001b[0m\n",
      "\u001b[1;31mNameError\u001b[0m: name 'urllib2' is not defined"
     ]
    }
   ],
   "source": [
    "import xmltodict\n",
    "import json\n",
    "import urllib.request\n",
    "\n",
    "url = 'http://rocdummy.blogspot.in/sitemap.xml' #Url for the xml site\n",
    "content = urllib.request.urlopen(url)\n",
    "content.read()\n",
    "\n",
    "xml_string = '<?xml version=\\'1.0\\' encoding=\\'UTF-8\\'?><urlset xmlns=\"http://www.sitemaps.org/schemas/sitemap/0.9\"><url><loc>http://rocdummy.blogspot.com/2016/03/test-post-5.html</loc><lastmod>2016-03-02T14:11:25Z</lastmod></url><url><loc>http://rocdummy.blogspot.com/2016/03/test-post-4.html</loc><lastmod>2016-03-02T14:11:17Z</lastmod></url><url><loc>http://rocdummy.blogspot.com/2016/03/test-post-3.html</loc><lastmod>2016-03-02T14:11:05Z</lastmod></url><url><loc>http://rocdummy.blogspot.com/2016/03/test-post-2.html</loc><lastmod>2016-03-02T14:10:54Z</lastmod></url><url><loc>http://rocdummy.blogspot.com/2016/03/test-post-1.html</loc><lastmod>2016-03-02T14:10:39Z</lastmod></url></urlset>'\n",
    "xml_json = json.dumps(xmltodict.parse(xml_string))\n",
    "\n",
    "json.loads(xml_json)\n",
    "post_url = 'http://rocdummy.blogspot.com/2016/03/test-post-4.html'\n",
    "for line in urllib.request.urlopen(post_url):\n",
    "    if '<title>' in line:\n",
    "        line = line.strip()\n",
    "    print ('Post title is : '+line[7:-8])\n",
    "    "
   ]
  }
 ],
 "metadata": {
  "kernelspec": {
   "display_name": "Python 3",
   "language": "python",
   "name": "python3"
  },
  "language_info": {
   "codemirror_mode": {
    "name": "ipython",
    "version": 3
   },
   "file_extension": ".py",
   "mimetype": "text/x-python",
   "name": "python",
   "nbconvert_exporter": "python",
   "pygments_lexer": "ipython3",
   "version": "3.6.2"
  }
 },
 "nbformat": 4,
 "nbformat_minor": 4
}
