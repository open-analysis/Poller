{
 "cells": [
  {
   "cell_type": "code",
   "execution_count": null,
   "metadata": {
    "scrolled": true
   },
   "outputs": [],
   "source": [
    "import xmltodict\n",
    "import json\n",
    "import urllib.request\n",
    "\n",
    "url = 'http://rocdummy.blogspot.in/sitemap.xml' #Url for the xml site\n",
    "content = urllib.request.urlopen(url)\n",
    "content.read()\n",
    "\n",
    "xml_string = '<?xml version=\\'1.0\\' encoding=\\'UTF-8\\'?><urlset xmlns=\"http://www.sitemaps.org/schemas/sitemap/0.9\"><url><loc>http://rocdummy.blogspot.com/2016/03/test-post-5.html</loc><lastmod>2016-03-02T14:11:25Z</lastmod></url><url><loc>http://rocdummy.blogspot.com/2016/03/test-post-4.html</loc><lastmod>2016-03-02T14:11:17Z</lastmod></url><url><loc>http://rocdummy.blogspot.com/2016/03/test-post-3.html</loc><lastmod>2016-03-02T14:11:05Z</lastmod></url><url><loc>http://rocdummy.blogspot.com/2016/03/test-post-2.html</loc><lastmod>2016-03-02T14:10:54Z</lastmod></url><url><loc>http://rocdummy.blogspot.com/2016/03/test-post-1.html</loc><lastmod>2016-03-02T14:10:39Z</lastmod></url></urlset>'\n",
    "xml_json = json.dumps(xmltodict.parse(xml_string))\n",
    "\n",
    "json.loads(xml_json)\n",
    "post_url = 'http://rocdummy.blogspot.com/2016/03/test-post-4.html'\n",
    "for line in urllib.request.urlopen(post_url):\n",
    "    if '<title>' in line:\n",
    "        line = line.strip()\n",
    "    print ('Post title is : '+line[7:-8])\n",
    "    "
   ]
  }
 ],
 "metadata": {
  "kernelspec": {
   "display_name": "Python 3",
   "language": "python",
   "name": "python3"
  },
  "language_info": {
   "codemirror_mode": {
    "name": "ipython",
    "version": 3
   },
   "file_extension": ".py",
   "mimetype": "text/x-python",
   "name": "python",
   "nbconvert_exporter": "python",
   "pygments_lexer": "ipython3",
   "version": "3.6.2"
  }
 },
 "nbformat": 4,
 "nbformat_minor": 4
}
